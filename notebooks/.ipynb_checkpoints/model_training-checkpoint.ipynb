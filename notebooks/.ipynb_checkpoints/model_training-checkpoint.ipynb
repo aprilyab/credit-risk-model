{
 "cells": [
  {
   "cell_type": "code",
   "execution_count": null,
   "id": "6f5eff1e",
   "metadata": {
    "vscode": {
     "languageId": "plaintext"
    }
   },
   "outputs": [],
   "source": [
    "import "
   ]
  }
 ],
 "metadata": {
  "language_info": {
   "name": "python"
  }
 },
 "nbformat": 4,
 "nbformat_minor": 5
}
